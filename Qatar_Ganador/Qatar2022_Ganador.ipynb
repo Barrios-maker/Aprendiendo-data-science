{
 "cells": [
  {
   "cell_type": "code",
   "execution_count": 173,
   "metadata": {},
   "outputs": [],
   "source": [
    "import pandas as pd\n",
    "import pickle \n",
    "from scipy.stats import poisson\n",
    "from numpy import sqrt\n",
    "import math"
   ]
  },
  {
   "cell_type": "code",
   "execution_count": 3,
   "metadata": {},
   "outputs": [],
   "source": [
    "dict_table = pickle.load(open('dict_table.pickle','rb'))\n",
    "historical_data = pd.read_csv('Clean_fifa_worldcup_matches.csv')\n",
    "fixture = pd.read_csv('Clean_fifa_worldcup_fixture.csv')"
   ]
  },
  {
   "cell_type": "code",
   "execution_count": 298,
   "metadata": {},
   "outputs": [],
   "source": [
    "home = historical_data[['HomeTeam','HomeGoals','AwayGoals']]\n",
    "away = historical_data[['AwayTeam','HomeGoals','AwayGoals']]\n",
    "home = home.rename(columns={'HomeTeam':'Team','HomeGoals':'ScoredGoals','AwayGoals':'ConcededGoals'})\n",
    "away = away.rename(columns={'AwayTeam':'Team','HomeGoals':'ConcededGoals','AwayGoals':'ScoredGoals'})\n",
    "#team_strength = pd.concat([home,away],ignore_index=True).groupby('Team').mean()"
   ]
  },
  {
   "cell_type": "code",
   "execution_count": 299,
   "metadata": {},
   "outputs": [
    {
     "data": {
      "text/html": [
       "<div>\n",
       "<style scoped>\n",
       "    .dataframe tbody tr th:only-of-type {\n",
       "        vertical-align: middle;\n",
       "    }\n",
       "\n",
       "    .dataframe tbody tr th {\n",
       "        vertical-align: top;\n",
       "    }\n",
       "\n",
       "    .dataframe thead th {\n",
       "        text-align: right;\n",
       "    }\n",
       "</style>\n",
       "<table border=\"1\" class=\"dataframe\">\n",
       "  <thead>\n",
       "    <tr style=\"text-align: right;\">\n",
       "      <th></th>\n",
       "      <th>ScoredGoals</th>\n",
       "      <th>ConcededGoals</th>\n",
       "    </tr>\n",
       "    <tr>\n",
       "      <th>Team</th>\n",
       "      <th></th>\n",
       "      <th></th>\n",
       "    </tr>\n",
       "  </thead>\n",
       "  <tbody>\n",
       "    <tr>\n",
       "      <th>Algeria</th>\n",
       "      <td>1.985486</td>\n",
       "      <td>2.626201</td>\n",
       "    </tr>\n",
       "    <tr>\n",
       "      <th>Angola</th>\n",
       "      <td>0.735541</td>\n",
       "      <td>1.471083</td>\n",
       "    </tr>\n",
       "    <tr>\n",
       "      <th>Argentina</th>\n",
       "      <td>1.948283</td>\n",
       "      <td>1.292430</td>\n",
       "    </tr>\n",
       "    <tr>\n",
       "      <th>Australia</th>\n",
       "      <td>2.246327</td>\n",
       "      <td>4.871874</td>\n",
       "    </tr>\n",
       "    <tr>\n",
       "      <th>Austria</th>\n",
       "      <td>0.465253</td>\n",
       "      <td>0.580829</td>\n",
       "    </tr>\n",
       "    <tr>\n",
       "      <th>...</th>\n",
       "      <td>...</td>\n",
       "      <td>...</td>\n",
       "    </tr>\n",
       "    <tr>\n",
       "      <th>Uruguay</th>\n",
       "      <td>1.466196</td>\n",
       "      <td>1.371197</td>\n",
       "    </tr>\n",
       "    <tr>\n",
       "      <th>Wales</th>\n",
       "      <td>0.064155</td>\n",
       "      <td>0.064155</td>\n",
       "    </tr>\n",
       "    <tr>\n",
       "      <th>West Germany</th>\n",
       "      <td>0.739700</td>\n",
       "      <td>0.405408</td>\n",
       "    </tr>\n",
       "    <tr>\n",
       "      <th>Yugoslavia</th>\n",
       "      <td>0.453554</td>\n",
       "      <td>0.331414</td>\n",
       "    </tr>\n",
       "    <tr>\n",
       "      <th>Zaire</th>\n",
       "      <td>0.000000</td>\n",
       "      <td>1.565393</td>\n",
       "    </tr>\n",
       "  </tbody>\n",
       "</table>\n",
       "<p>85 rows × 2 columns</p>\n",
       "</div>"
      ],
      "text/plain": [
       "              ScoredGoals  ConcededGoals\n",
       "Team                                    \n",
       "Algeria          1.985486       2.626201\n",
       "Angola           0.735541       1.471083\n",
       "Argentina        1.948283       1.292430\n",
       "Australia        2.246327       4.871874\n",
       "Austria          0.465253       0.580829\n",
       "...                   ...            ...\n",
       "Uruguay          1.466196       1.371197\n",
       "Wales            0.064155       0.064155\n",
       "West Germany     0.739700       0.405408\n",
       "Yugoslavia       0.453554       0.331414\n",
       "Zaire            0.000000       1.565393\n",
       "\n",
       "[85 rows x 2 columns]"
      ]
     },
     "execution_count": 299,
     "metadata": {},
     "output_type": "execute_result"
    }
   ],
   "source": [
    "Actuality = ((1.1-(2022 - historical_data['Year'])/92)**4)*3\n",
    "Actuality2 = pd.concat([Actuality,Actuality],ignore_index=True)\n",
    "WeightedGoals = pd.concat([home,away],ignore_index=True)\n",
    "WeightedGoals['ScoredGoals'] = WeightedGoals['ScoredGoals'] * Actuality2\n",
    "WeightedGoals['ConcededGoals'] = WeightedGoals['ConcededGoals'] * Actuality2\n",
    "team_strength = WeightedGoals.groupby('Team').mean()\n",
    "team_strength"
   ]
  },
  {
   "cell_type": "code",
   "execution_count": 307,
   "metadata": {},
   "outputs": [],
   "source": [
    "def predict_points(Home,Away):\n",
    "    if Home  in team_strength.index and Away in team_strength.index:\n",
    "        lamb_home = (team_strength.at[Home,'ScoredGoals']*team_strength.at[Away,'ConcededGoals'])\n",
    "        lamb_away = (team_strength.at[Away,'ScoredGoals']*team_strength.at[Home,'ConcededGoals'])\n",
    "        prob_home, prob_away   , prob_draw = 0,0,0\n",
    "        for x in range(0,10):\n",
    "            for y in range(0,10):\n",
    "                p = poisson.pmf(x,lamb_home)*poisson.pmf(y,lamb_away)\n",
    "                if x == y:\n",
    "                    prob_draw += p\n",
    "                elif x>y:\n",
    "                    prob_home += p\n",
    "                elif y>x:\n",
    "                    prob_away += p\n",
    "        points_home = 3*prob_home + prob_draw\n",
    "        point_away = 3*prob_away + prob_draw\n",
    "        #return(points_home,points_away)\n",
    "        return(prob_home*100,prob_draw*100,prob_away*100)\n",
    "    else:\n",
    "        return(0,0)"
   ]
  },
  {
   "cell_type": "code",
   "execution_count": 308,
   "metadata": {},
   "outputs": [
    {
     "name": "stdout",
     "output_type": "stream",
     "text": [
      "Arg: 26.0 %    Empate: 15.8 %    Neth 58.0 %\n"
     ]
    }
   ],
   "source": [
    "a,b,c = predict_points('Argentina','Netherlands')\n",
    "print('Arg:',a.round(1),\"%   \",'Empate:',b.round(1),'%   ','Neth',c.round(1),'%')"
   ]
  },
  {
   "cell_type": "code",
   "execution_count": 309,
   "metadata": {},
   "outputs": [
    {
     "name": "stdout",
     "output_type": "stream",
     "text": [
      "Fra: 57.4 %    Empate: 17.6 %    Eng 24.9 %\n"
     ]
    }
   ],
   "source": [
    "a,b,c = predict_points('France','England')\n",
    "print('Fra:',a.round(1),\"%   \",'Empate:',b.round(1),'%   ','Eng',c.round(1),'%')"
   ]
  },
  {
   "cell_type": "code",
   "execution_count": 310,
   "metadata": {},
   "outputs": [
    {
     "name": "stdout",
     "output_type": "stream",
     "text": [
      "Bra: 58.3 %    Empate: 10.5 %    Cro 20.9 %\n"
     ]
    }
   ],
   "source": [
    "a,b,c = predict_points('Brazil','Croatia')\n",
    "print('Bra:',a.round(1),\"%   \",'Empate:',b.round(1),'%   ','Cro',c.round(1),'%')"
   ]
  },
  {
   "cell_type": "code",
   "execution_count": 311,
   "metadata": {},
   "outputs": [
    {
     "name": "stdout",
     "output_type": "stream",
     "text": [
      "Mor: 13.8 %    Empate: 9.5 %    Por 71.1 %\n"
     ]
    }
   ],
   "source": [
    "a,b,c = predict_points('Morocco','Portugal')\n",
    "print('Mor:',a.round(1),\"%   \",'Empate:',b.round(1),'%   ','Por',c.round(1),'%')"
   ]
  }
 ],
 "metadata": {
  "kernelspec": {
   "display_name": "Python 3.10.5 64-bit",
   "language": "python",
   "name": "python3"
  },
  "language_info": {
   "codemirror_mode": {
    "name": "ipython",
    "version": 3
   },
   "file_extension": ".py",
   "mimetype": "text/x-python",
   "name": "python",
   "nbconvert_exporter": "python",
   "pygments_lexer": "ipython3",
   "version": "3.10.5"
  },
  "orig_nbformat": 4,
  "vscode": {
   "interpreter": {
    "hash": "341268af697f69dd1ffdcdac7af840419ecb88f390bc16e46c3586102df69d04"
   }
  }
 },
 "nbformat": 4,
 "nbformat_minor": 2
}
