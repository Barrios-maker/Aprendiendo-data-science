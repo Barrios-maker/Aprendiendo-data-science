{
 "cells": [
  {
   "cell_type": "code",
   "execution_count": 1,
   "metadata": {},
   "outputs": [],
   "source": [
    "import pandas as pd\n",
    "import pickle \n",
    "from scipy.stats import poisson\n",
    "from numpy import sqrt\n",
    "import math"
   ]
  },
  {
   "cell_type": "code",
   "execution_count": 2,
   "metadata": {},
   "outputs": [],
   "source": [
    "dict_table = pickle.load(open('dict_table.pickle','rb'))\n",
    "historical_data = pd.read_csv('Clean_fifa_worldcup_matches.csv')\n",
    "fixture = pd.read_csv('Clean_fifa_worldcup_fixture.csv')"
   ]
  },
  {
   "cell_type": "code",
   "execution_count": 3,
   "metadata": {},
   "outputs": [],
   "source": [
    "home = historical_data[['HomeTeam','HomeGoals','AwayGoals']]\n",
    "away = historical_data[['AwayTeam','HomeGoals','AwayGoals']]\n",
    "home = home.rename(columns={'HomeTeam':'Team','HomeGoals':'ScoredGoals','AwayGoals':'ConcededGoals'})\n",
    "away = away.rename(columns={'AwayTeam':'Team','HomeGoals':'ConcededGoals','AwayGoals':'ScoredGoals'})\n",
    "#team_strength = pd.concat([home,away],ignore_index=True).groupby('Team').mean()"
   ]
  },
  {
   "cell_type": "code",
   "execution_count": 4,
   "metadata": {},
   "outputs": [],
   "source": [
    "Actuality = ((1.1-(2022 - historical_data['Year'])/92)**4)*3\n",
    "Actuality2 = pd.concat([Actuality,Actuality],ignore_index=True)\n",
    "WeightedGoals = pd.concat([home,away],ignore_index=True)\n",
    "WeightedGoals['ScoredGoals'] = WeightedGoals['ScoredGoals'] * Actuality2\n",
    "WeightedGoals['ConcededGoals'] = WeightedGoals['ConcededGoals'] * Actuality2\n",
    "team_strength = WeightedGoals.groupby('Team').mean()"
   ]
  },
  {
   "cell_type": "code",
   "execution_count": 5,
   "metadata": {},
   "outputs": [],
   "source": [
    "def predict_points(Home,Away):\n",
    "    if Home  in team_strength.index and Away in team_strength.index:\n",
    "        lamb_home = (team_strength.at[Home,'ScoredGoals']*team_strength.at[Away,'ConcededGoals'])\n",
    "        lamb_away = (team_strength.at[Away,'ScoredGoals']*team_strength.at[Home,'ConcededGoals'])\n",
    "        prob_home, prob_away   , prob_draw = 0,0,0\n",
    "        for x in range(0,10):\n",
    "            for y in range(0,10):\n",
    "                p = poisson.pmf(x,lamb_home)*poisson.pmf(y,lamb_away)\n",
    "                if x == y:\n",
    "                    prob_draw += p\n",
    "                elif x>y:\n",
    "                    prob_home += p\n",
    "                elif y>x:\n",
    "                    prob_away += p\n",
    "        points_home = 3*prob_home + prob_draw\n",
    "        point_away = 3*prob_away + prob_draw\n",
    "        return(points_home,point_away)\n",
    "        #return(prob_home*100,prob_draw*100,prob_away*100)\n",
    "    else:\n",
    "        return(0,0)"
   ]
  },
  {
   "cell_type": "code",
   "execution_count": 61,
   "metadata": {},
   "outputs": [],
   "source": [
    "fixture_group = fixture[:48].copy()\n",
    "fixture_knockout = fixture[48:56].copy()\n",
    "fixture_quarter = fixture[56:60].copy()\n",
    "fixture_semi = fixture[60:62].copy()\n",
    "fixture_final = fixture[62:].copy()"
   ]
  },
  {
   "cell_type": "code",
   "execution_count": 62,
   "metadata": {},
   "outputs": [],
   "source": [
    "for group  in dict_table:\n",
    "    teams_in_group = dict_table[group]['Team'].values\n",
    "    fixture_by_group = fixture_group[fixture_group['home'].isin(teams_in_group)]\n",
    "    for index, row in fixture_by_group.iterrows():\n",
    "        home,away = row['home'], row['away'] \n",
    "        points_home,points_away = predict_points(home,away)\n",
    "        dict_table[group].loc[dict_table[group]['Team'] == home, 'Pts'] += points_home\n",
    "        dict_table[group].loc[dict_table[group]['Team'] == away, 'Pts'] += points_away\n",
    "    dict_table[group] = dict_table[group].sort_values('Pts', ascending = False).reset_index()\n",
    "    dict_table[group] = dict_table[group][['Team','Pts']].round(0)"
   ]
  },
  {
   "cell_type": "code",
   "execution_count": 63,
   "metadata": {},
   "outputs": [],
   "source": [
    "for group in dict_table:\n",
    "    group_winner = dict_table[group].loc[0,'Team']\n",
    "    group_runner_up = dict_table[group].loc[1,'Team']\n",
    "    fixture_knockout.replace({f'Winners {group}':group_winner,f'Runners-up {group}':group_runner_up}, inplace=True)\n",
    "fixture_knockout['Winner'] = '-'\n",
    "\n",
    "def get_winner(fixture_updated):\n",
    "    for index, row in fixture_updated.iterrows():\n",
    "        points_home, points_away = predict_points(row['home'],row['away'])\n",
    "        if points_home > points_away:\n",
    "            Winner = row['home']\n",
    "        else:\n",
    "            Winner = row['away']\n",
    "        fixture_updated.loc[index, 'Winner'] = Winner\n",
    "    return fixture_updated"
   ]
  },
  {
   "cell_type": "code",
   "execution_count": 64,
   "metadata": {},
   "outputs": [
    {
     "data": {
      "text/html": [
       "<div>\n",
       "<style scoped>\n",
       "    .dataframe tbody tr th:only-of-type {\n",
       "        vertical-align: middle;\n",
       "    }\n",
       "\n",
       "    .dataframe tbody tr th {\n",
       "        vertical-align: top;\n",
       "    }\n",
       "\n",
       "    .dataframe thead th {\n",
       "        text-align: right;\n",
       "    }\n",
       "</style>\n",
       "<table border=\"1\" class=\"dataframe\">\n",
       "  <thead>\n",
       "    <tr style=\"text-align: right;\">\n",
       "      <th></th>\n",
       "      <th>home</th>\n",
       "      <th>score</th>\n",
       "      <th>away</th>\n",
       "      <th>year</th>\n",
       "      <th>Winner</th>\n",
       "    </tr>\n",
       "  </thead>\n",
       "  <tbody>\n",
       "    <tr>\n",
       "      <th>48</th>\n",
       "      <td>Netherlands</td>\n",
       "      <td>Match 49</td>\n",
       "      <td>United States</td>\n",
       "      <td>2022</td>\n",
       "      <td>Netherlands</td>\n",
       "    </tr>\n",
       "    <tr>\n",
       "      <th>49</th>\n",
       "      <td>Argentina</td>\n",
       "      <td>Match 50</td>\n",
       "      <td>Denmark</td>\n",
       "      <td>2022</td>\n",
       "      <td>Argentina</td>\n",
       "    </tr>\n",
       "    <tr>\n",
       "      <th>50</th>\n",
       "      <td>France</td>\n",
       "      <td>Match 52</td>\n",
       "      <td>Mexico</td>\n",
       "      <td>2022</td>\n",
       "      <td>France</td>\n",
       "    </tr>\n",
       "    <tr>\n",
       "      <th>51</th>\n",
       "      <td>England</td>\n",
       "      <td>Match 51</td>\n",
       "      <td>Senegal</td>\n",
       "      <td>2022</td>\n",
       "      <td>England</td>\n",
       "    </tr>\n",
       "    <tr>\n",
       "      <th>52</th>\n",
       "      <td>Spain</td>\n",
       "      <td>Match 53</td>\n",
       "      <td>Croatia</td>\n",
       "      <td>2022</td>\n",
       "      <td>Spain</td>\n",
       "    </tr>\n",
       "    <tr>\n",
       "      <th>53</th>\n",
       "      <td>Brazil</td>\n",
       "      <td>Match 54</td>\n",
       "      <td>Portugal</td>\n",
       "      <td>2022</td>\n",
       "      <td>Brazil</td>\n",
       "    </tr>\n",
       "    <tr>\n",
       "      <th>54</th>\n",
       "      <td>Belgium</td>\n",
       "      <td>Match 55</td>\n",
       "      <td>Germany</td>\n",
       "      <td>2022</td>\n",
       "      <td>Germany</td>\n",
       "    </tr>\n",
       "    <tr>\n",
       "      <th>55</th>\n",
       "      <td>Uruguay</td>\n",
       "      <td>Match 56</td>\n",
       "      <td>Switzerland</td>\n",
       "      <td>2022</td>\n",
       "      <td>Switzerland</td>\n",
       "    </tr>\n",
       "  </tbody>\n",
       "</table>\n",
       "</div>"
      ],
      "text/plain": [
       "           home     score           away  year       Winner\n",
       "48  Netherlands  Match 49  United States  2022  Netherlands\n",
       "49    Argentina  Match 50        Denmark  2022    Argentina\n",
       "50       France  Match 52         Mexico  2022       France\n",
       "51      England  Match 51        Senegal  2022      England\n",
       "52        Spain  Match 53        Croatia  2022        Spain\n",
       "53       Brazil  Match 54       Portugal  2022       Brazil\n",
       "54      Belgium  Match 55        Germany  2022      Germany\n",
       "55      Uruguay  Match 56    Switzerland  2022  Switzerland"
      ]
     },
     "execution_count": 64,
     "metadata": {},
     "output_type": "execute_result"
    }
   ],
   "source": [
    "get_winner(fixture_knockout)"
   ]
  },
  {
   "cell_type": "code",
   "execution_count": 65,
   "metadata": {},
   "outputs": [],
   "source": [
    "def update_table(fixture_1,fixture_2):\n",
    "    for index, row in fixture_1.iterrows():\n",
    "        winner = fixture_1.loc[index,'Winner']\n",
    "        match = fixture_1.loc[index, 'score']\n",
    "        fixture_2.replace({f'Winners {match}':winner},inplace=True)\n",
    "    fixture_2['Winner']='-'\n",
    "    return fixture_2\n"
   ]
  },
  {
   "cell_type": "code",
   "execution_count": 66,
   "metadata": {},
   "outputs": [
    {
     "data": {
      "text/html": [
       "<div>\n",
       "<style scoped>\n",
       "    .dataframe tbody tr th:only-of-type {\n",
       "        vertical-align: middle;\n",
       "    }\n",
       "\n",
       "    .dataframe tbody tr th {\n",
       "        vertical-align: top;\n",
       "    }\n",
       "\n",
       "    .dataframe thead th {\n",
       "        text-align: right;\n",
       "    }\n",
       "</style>\n",
       "<table border=\"1\" class=\"dataframe\">\n",
       "  <thead>\n",
       "    <tr style=\"text-align: right;\">\n",
       "      <th></th>\n",
       "      <th>home</th>\n",
       "      <th>score</th>\n",
       "      <th>away</th>\n",
       "      <th>year</th>\n",
       "      <th>Winner</th>\n",
       "    </tr>\n",
       "  </thead>\n",
       "  <tbody>\n",
       "    <tr>\n",
       "      <th>56</th>\n",
       "      <td>Spain</td>\n",
       "      <td>Match 58</td>\n",
       "      <td>Brazil</td>\n",
       "      <td>2022</td>\n",
       "      <td>Brazil</td>\n",
       "    </tr>\n",
       "    <tr>\n",
       "      <th>57</th>\n",
       "      <td>Netherlands</td>\n",
       "      <td>Match 57</td>\n",
       "      <td>Argentina</td>\n",
       "      <td>2022</td>\n",
       "      <td>Netherlands</td>\n",
       "    </tr>\n",
       "    <tr>\n",
       "      <th>58</th>\n",
       "      <td>Germany</td>\n",
       "      <td>Match 60</td>\n",
       "      <td>Switzerland</td>\n",
       "      <td>2022</td>\n",
       "      <td>Germany</td>\n",
       "    </tr>\n",
       "    <tr>\n",
       "      <th>59</th>\n",
       "      <td>England</td>\n",
       "      <td>Match 59</td>\n",
       "      <td>France</td>\n",
       "      <td>2022</td>\n",
       "      <td>France</td>\n",
       "    </tr>\n",
       "  </tbody>\n",
       "</table>\n",
       "</div>"
      ],
      "text/plain": [
       "           home     score         away  year       Winner\n",
       "56        Spain  Match 58       Brazil  2022       Brazil\n",
       "57  Netherlands  Match 57    Argentina  2022  Netherlands\n",
       "58      Germany  Match 60  Switzerland  2022      Germany\n",
       "59      England  Match 59       France  2022       France"
      ]
     },
     "execution_count": 66,
     "metadata": {},
     "output_type": "execute_result"
    }
   ],
   "source": [
    "update_table(fixture_knockout,fixture_quarter)\n",
    "get_winner(fixture_quarter)"
   ]
  },
  {
   "cell_type": "code",
   "execution_count": 67,
   "metadata": {},
   "outputs": [
    {
     "data": {
      "text/html": [
       "<div>\n",
       "<style scoped>\n",
       "    .dataframe tbody tr th:only-of-type {\n",
       "        vertical-align: middle;\n",
       "    }\n",
       "\n",
       "    .dataframe tbody tr th {\n",
       "        vertical-align: top;\n",
       "    }\n",
       "\n",
       "    .dataframe thead th {\n",
       "        text-align: right;\n",
       "    }\n",
       "</style>\n",
       "<table border=\"1\" class=\"dataframe\">\n",
       "  <thead>\n",
       "    <tr style=\"text-align: right;\">\n",
       "      <th></th>\n",
       "      <th>home</th>\n",
       "      <th>score</th>\n",
       "      <th>away</th>\n",
       "      <th>year</th>\n",
       "      <th>Winner</th>\n",
       "    </tr>\n",
       "  </thead>\n",
       "  <tbody>\n",
       "    <tr>\n",
       "      <th>60</th>\n",
       "      <td>Netherlands</td>\n",
       "      <td>Match 61</td>\n",
       "      <td>Brazil</td>\n",
       "      <td>2022</td>\n",
       "      <td>Netherlands</td>\n",
       "    </tr>\n",
       "    <tr>\n",
       "      <th>61</th>\n",
       "      <td>France</td>\n",
       "      <td>Match 62</td>\n",
       "      <td>Germany</td>\n",
       "      <td>2022</td>\n",
       "      <td>Germany</td>\n",
       "    </tr>\n",
       "  </tbody>\n",
       "</table>\n",
       "</div>"
      ],
      "text/plain": [
       "           home     score     away  year       Winner\n",
       "60  Netherlands  Match 61   Brazil  2022  Netherlands\n",
       "61       France  Match 62  Germany  2022      Germany"
      ]
     },
     "execution_count": 67,
     "metadata": {},
     "output_type": "execute_result"
    }
   ],
   "source": [
    "update_table(fixture_quarter,fixture_semi)\n",
    "get_winner(fixture_semi)"
   ]
  },
  {
   "cell_type": "code",
   "execution_count": 68,
   "metadata": {},
   "outputs": [
    {
     "data": {
      "text/html": [
       "<div>\n",
       "<style scoped>\n",
       "    .dataframe tbody tr th:only-of-type {\n",
       "        vertical-align: middle;\n",
       "    }\n",
       "\n",
       "    .dataframe tbody tr th {\n",
       "        vertical-align: top;\n",
       "    }\n",
       "\n",
       "    .dataframe thead th {\n",
       "        text-align: right;\n",
       "    }\n",
       "</style>\n",
       "<table border=\"1\" class=\"dataframe\">\n",
       "  <thead>\n",
       "    <tr style=\"text-align: right;\">\n",
       "      <th></th>\n",
       "      <th>home</th>\n",
       "      <th>score</th>\n",
       "      <th>away</th>\n",
       "      <th>year</th>\n",
       "      <th>Winner</th>\n",
       "    </tr>\n",
       "  </thead>\n",
       "  <tbody>\n",
       "    <tr>\n",
       "      <th>62</th>\n",
       "      <td>Losers Match 61</td>\n",
       "      <td>Match 63</td>\n",
       "      <td>Losers Match 62</td>\n",
       "      <td>2022</td>\n",
       "      <td>Losers Match 62</td>\n",
       "    </tr>\n",
       "    <tr>\n",
       "      <th>63</th>\n",
       "      <td>Netherlands</td>\n",
       "      <td>Match 64</td>\n",
       "      <td>Germany</td>\n",
       "      <td>2022</td>\n",
       "      <td>Germany</td>\n",
       "    </tr>\n",
       "  </tbody>\n",
       "</table>\n",
       "</div>"
      ],
      "text/plain": [
       "               home     score             away  year           Winner\n",
       "62  Losers Match 61  Match 63  Losers Match 62  2022  Losers Match 62\n",
       "63      Netherlands  Match 64          Germany  2022          Germany"
      ]
     },
     "execution_count": 68,
     "metadata": {},
     "output_type": "execute_result"
    }
   ],
   "source": [
    "update_table(fixture_semi,fixture_final)\n",
    "get_winner(fixture_final)"
   ]
  }
 ],
 "metadata": {
  "kernelspec": {
   "display_name": "Python 3.10.5 64-bit",
   "language": "python",
   "name": "python3"
  },
  "language_info": {
   "codemirror_mode": {
    "name": "ipython",
    "version": 3
   },
   "file_extension": ".py",
   "mimetype": "text/x-python",
   "name": "python",
   "nbconvert_exporter": "python",
   "pygments_lexer": "ipython3",
   "version": "3.10.5"
  },
  "orig_nbformat": 4,
  "vscode": {
   "interpreter": {
    "hash": "341268af697f69dd1ffdcdac7af840419ecb88f390bc16e46c3586102df69d04"
   }
  }
 },
 "nbformat": 4,
 "nbformat_minor": 2
}
