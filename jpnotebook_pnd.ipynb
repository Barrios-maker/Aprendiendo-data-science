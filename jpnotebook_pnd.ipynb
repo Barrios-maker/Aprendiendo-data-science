{
 "cells": [
  {
   "cell_type": "code",
   "execution_count": null,
   "metadata": {},
   "outputs": [],
   "source": [
    "import pandas as pd\n",
    "import numpy as np\n",
    "\n",
    "a=np.array([[1,3,0,1,8],[1,0,7,9,3],[0,1,8,3,-8],[0,0,0,0,0]])\n",
    "\n",
    "b=pd.DataFrame(a,index=['r1','r2','r3','r4'],columns=['c1','c2','c3','c4','c5'])\n",
    "\n",
    "#print(a)\n",
    "#print(b)\n",
    "\n",
    "Provincias=['Santa Fe','Jujuy','Entre Rios']\n",
    "Poblaciones=[54,19,30] \n",
    "Diccionario={'Provincias':Provincias,'Poblacion':Poblaciones}\n",
    "\n",
    "a=pd.DataFrame(Diccionario)\n",
    "\n",
    "#print(a)\n",
    "\n"
   ]
  },
  {
   "cell_type": "code",
   "execution_count": 2,
   "metadata": {},
   "outputs": [
    {
     "name": "stdout",
     "output_type": "stream",
     "text": [
      "Index(['Group', 'Flag_Image', 'Country_Name', 'Country_Name_Short', 'Puntos'], dtype='object')\n",
      "   Country_Name_Short  Puntos\n",
      "0                 QAT       0\n",
      "1                 ECU       0\n",
      "2                 SEN       0\n",
      "3                 NED       0\n",
      "4                 ENG       0\n",
      "5                 IRN       0\n",
      "6                 USA       0\n",
      "7                 WAL       0\n",
      "8                 ARG       0\n",
      "9                 KSA       0\n",
      "10                MEX       0\n",
      "11                POL       0\n",
      "12                FRA       0\n",
      "13                DEN       0\n",
      "14                TUN       0\n",
      "15                AUS       0\n",
      "16                ESP       0\n",
      "17                GER       0\n",
      "18                JPN       0\n",
      "19                CRC       0\n",
      "20                BEL       0\n",
      "21                CAN       0\n",
      "22                MAR       0\n",
      "23                CRO       0\n",
      "24                BRA       0\n",
      "25                SRB       0\n",
      "26                SUI       0\n",
      "27                CMR       0\n",
      "28                POR       0\n",
      "29                GHA       0\n",
      "30                URU       0\n",
      "31                KOR       0\n"
     ]
    }
   ],
   "source": [
    "import pandas as pd\n",
    "\n",
    "grupos_mundial=pd.read_csv('Fifa_Worldcup_2022_Groups.csv')\n",
    "\n",
    "grupos_mundial['Puntos']=0\n",
    "\n",
    "print(grupos_mundial.columns)\n",
    "\n",
    "print(grupos_mundial[['Country_Name_Short','Puntos']])"
   ]
  }
 ],
 "metadata": {
  "kernelspec": {
   "display_name": "Python 3.10.5 64-bit",
   "language": "python",
   "name": "python3"
  },
  "language_info": {
   "codemirror_mode": {
    "name": "ipython",
    "version": 3
   },
   "file_extension": ".py",
   "mimetype": "text/x-python",
   "name": "python",
   "nbconvert_exporter": "python",
   "pygments_lexer": "ipython3",
   "version": "3.10.5"
  },
  "orig_nbformat": 4,
  "vscode": {
   "interpreter": {
    "hash": "341268af697f69dd1ffdcdac7af840419ecb88f390bc16e46c3586102df69d04"
   }
  }
 },
 "nbformat": 4,
 "nbformat_minor": 2
}
