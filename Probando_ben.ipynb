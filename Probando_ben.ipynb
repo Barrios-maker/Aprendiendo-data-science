{
 "cells": [
  {
   "cell_type": "code",
   "execution_count": 1,
   "metadata": {},
   "outputs": [],
   "source": [
    "import math\n",
    "import Benford\n",
    "import pandas as pd"
   ]
  },
  {
   "cell_type": "code",
   "execution_count": 2,
   "metadata": {},
   "outputs": [
    {
     "name": "stderr",
     "output_type": "stream",
     "text": [
      "c:\\Users\\Diego\\anaconda3\\lib\\site-packages\\IPython\\core\\interactiveshell.py:3444: DtypeWarning: Columns (25,108) have mixed types.Specify dtype option on import or set low_memory=False.\n",
      "  exec(code_obj, self.user_global_ns, self.user_ns)\n"
     ]
    }
   ],
   "source": [
    "df_players = pd.read_csv('Qatar_Ganador/players_22.csv')\n",
    "value_players = df_players['value_eur']\n",
    "Clean_list = []\n",
    "for i in value_players:\n",
    "    if not(math.isnan(i)):\n",
    "        Clean_list.append(i)"
   ]
  },
  {
   "cell_type": "code",
   "execution_count": 3,
   "metadata": {},
   "outputs": [
    {
     "data": {
      "text/plain": [
       "([0.316044873467258,\n",
       "  0.1634229063396817,\n",
       "  0.11802765457865902,\n",
       "  0.09324289068614662,\n",
       "  0.08525958779024263,\n",
       "  0.057918079833028956,\n",
       "  0.06475345682233238,\n",
       "  0.05457865901382729,\n",
       "  0.04675189146882337],\n",
       " '3.38 %')"
      ]
     },
     "execution_count": 3,
     "metadata": {},
     "output_type": "execute_result"
    }
   ],
   "source": [
    "pd.options.display.max_columns = 15\n",
    "pd.options.display.max_rows = 15\n",
    "Benford.benford(Clean_list)"
   ]
  }
 ],
 "metadata": {
  "kernelspec": {
   "display_name": "base",
   "language": "python",
   "name": "python3"
  },
  "language_info": {
   "codemirror_mode": {
    "name": "ipython",
    "version": 3
   },
   "file_extension": ".py",
   "mimetype": "text/x-python",
   "name": "python",
   "nbconvert_exporter": "python",
   "pygments_lexer": "ipython3",
   "version": "3.9.7"
  },
  "orig_nbformat": 4,
  "vscode": {
   "interpreter": {
    "hash": "878da1b279abf09d06b935ceb9f68f83f69da699836aa8598526eb33b08a8d28"
   }
  }
 },
 "nbformat": 4,
 "nbformat_minor": 2
}
